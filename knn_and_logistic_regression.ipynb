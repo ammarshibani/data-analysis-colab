{
  "nbformat": 4,
  "nbformat_minor": 0,
  "metadata": {
    "colab": {
      "provenance": [],
      "authorship_tag": "ABX9TyN8z1mE5rskYYGCE53T2r6Z",
      "include_colab_link": true
    },
    "kernelspec": {
      "name": "python3",
      "display_name": "Python 3"
    },
    "language_info": {
      "name": "python"
    }
  },
  "cells": [
    {
      "cell_type": "markdown",
      "metadata": {
        "id": "view-in-github",
        "colab_type": "text"
      },
      "source": [
        "<a href=\"https://colab.research.google.com/github/ammarshibani/data-analysis-colab/blob/main/knn_and_logistic_regression.ipynb\" target=\"_parent\"><img src=\"https://colab.research.google.com/assets/colab-badge.svg\" alt=\"Open In Colab\"/></a>"
      ]
    },
    {
      "cell_type": "code",
      "source": [
        "# Step 1: Load the Iris Dataset, Scale Features, and Split the Dataset\n",
        "from sklearn.datasets import load_iris\n",
        "from sklearn.model_selection import train_test_split\n",
        "from sklearn.preprocessing import StandardScaler\n",
        "\n",
        "# Load the Iris dataset\n",
        "iris = load_iris()\n",
        "X = iris.data\n",
        "y = iris.target\n",
        "\n",
        "# Perform feature scaling using StandardScaler\n",
        "scaler = StandardScaler()\n",
        "X_scaled = scaler.fit_transform(X)\n",
        "\n",
        "# Split the dataset into training and test sets (80% train, 20% test)\n",
        "X_train, X_test, y_train, y_test = train_test_split(X_scaled, y, test_size=0.2, random_state=42)\n",
        "\n",
        "print(\"Step 1 complete: Dataset loaded, features scaled, and data split.\")\n",
        "\n",
        "# ------------------------------------------------------------\n",
        "\n",
        "# Step 2: Create the KNN and Logistic Regression Classifiers\n",
        "from sklearn.neighbors import KNeighborsClassifier\n",
        "from sklearn.linear_model import LogisticRegression\n",
        "\n",
        "# Create the KNN classifier\n",
        "knn = KNeighborsClassifier()\n",
        "\n",
        "# Create the Logistic Regression classifier (with increased max_iter to ensure convergence)\n",
        "logreg = LogisticRegression(max_iter=200)\n",
        "\n",
        "print(\"Step 2 complete: KNN and Logistic Regression classifiers created.\")\n",
        "\n",
        "# ------------------------------------------------------------\n",
        "\n",
        "# Step 3: Perform 5-Fold Cross-Validation on Both Models\n",
        "from sklearn.model_selection import cross_val_score\n",
        "\n",
        "# Perform 5-fold cross-validation for each classifier using the training set\n",
        "knn_scores = cross_val_score(knn, X_train, y_train, cv=5)\n",
        "logreg_scores = cross_val_score(logreg, X_train, y_train, cv=5)\n",
        "\n",
        "print(\"Step 3 complete: 5-fold cross-validation scores computed.\")\n",
        "print(\"KNN CV Scores:\", knn_scores)\n",
        "print(\"Logistic Regression CV Scores:\", logreg_scores)\n",
        "\n",
        "# ------------------------------------------------------------\n",
        "\n",
        "# Step 4: Compare the Mean Cross-Validation Scores and Select the Better Model\n",
        "# Compute the mean cross-validation score for both models\n",
        "knn_mean = knn_scores.mean()\n",
        "logreg_mean = logreg_scores.mean()\n",
        "\n",
        "print(\"\\nMean CV score for KNN:\", knn_mean)\n",
        "print(\"Mean CV score for Logistic Regression:\", logreg_mean)\n",
        "\n",
        "# Compare the mean scores and select the model with the higher score\n",
        "if logreg_mean > knn_mean:\n",
        "    best_model = logreg\n",
        "    print(\"Logistic Regression performs better based on the mean CV score.\")\n",
        "else:\n",
        "    best_model = knn\n",
        "    print(\"KNN performs better based on the mean CV score.\")\n",
        "\n",
        "print(\"Step 4 complete: Model comparison done.\")\n"
      ],
      "metadata": {
        "colab": {
          "base_uri": "https://localhost:8080/"
        },
        "id": "cSdJtOfTCJRn",
        "outputId": "e1e4f9e9-63bb-4e10-8587-984afb0e05ab"
      },
      "execution_count": null,
      "outputs": [
        {
          "output_type": "stream",
          "name": "stdout",
          "text": [
            "Step 1 complete: Dataset loaded, features scaled, and data split.\n",
            "Step 2 complete: KNN and Logistic Regression classifiers created.\n",
            "Step 3 complete: 5-fold cross-validation scores computed.\n",
            "KNN CV Scores: [0.95833333 0.95833333 0.83333333 1.         0.91666667]\n",
            "Logistic Regression CV Scores: [0.95833333 1.         0.875      1.         0.95833333]\n",
            "\n",
            "Mean CV score for KNN: 0.9333333333333333\n",
            "Mean CV score for Logistic Regression: 0.9583333333333334\n",
            "Logistic Regression performs better based on the mean CV score.\n",
            "Step 4 complete: Model comparison done.\n"
          ]
        }
      ]
    },
    {
      "cell_type": "code",
      "source": [
        "from sklearn.datasets import load_iris\n",
        "from sklearn.model_selection import train_test_split\n",
        "from sklearn.preprocessing import StandardScaler\n",
        "\n",
        "iris = load_iris()\n",
        "X = iris.data\n",
        "y = iris.target\n",
        "\n",
        "scaler = StandardScaler()\n",
        "X_scaled = scaler.fit_transform(X)\n",
        "\n",
        "X_train, X_test, y_train, y_test = train_test_split(X_scaled, y, test_size=0.2, random_state=42)"
      ],
      "metadata": {
        "id": "cjrz8tKUCyZw"
      },
      "execution_count": null,
      "outputs": []
    },
    {
      "cell_type": "code",
      "source": [
        "from sklearn.neighbors import KNeighborsClassifier\n",
        "from sklearn.linear_model import LogisticRegression\n",
        "\n",
        "knn = KNeighborsClassifier()\n",
        "\n",
        "logreg = LogisticRegression(max_iter=200)"
      ],
      "metadata": {
        "id": "YXT4pdvLEKWu"
      },
      "execution_count": null,
      "outputs": []
    },
    {
      "cell_type": "code",
      "source": [
        "from sklearn.model_selection import cross_val_score\n",
        "\n",
        "knn_scores = cross_val_score(knn, X_train, y_train, cv=5)\n",
        "logreg_scores = cross_val_score(logreg, X_train, y_train, cv=5)\n",
        "\n",
        "print(\"KNN CV Scores:\", knn_scores)\n",
        "print(\"Logistic Regression CV Scores:\", logreg_scores)\n"
      ],
      "metadata": {
        "colab": {
          "base_uri": "https://localhost:8080/"
        },
        "id": "beGOQEHzFL3z",
        "outputId": "81d34e0e-3347-4a0a-d981-c0ab32e098e3"
      },
      "execution_count": null,
      "outputs": [
        {
          "output_type": "stream",
          "name": "stdout",
          "text": [
            "KNN CV Scores: [0.95833333 0.95833333 0.83333333 1.         0.91666667]\n",
            "Logistic Regression CV Scores: [0.95833333 1.         0.875      1.         0.95833333]\n"
          ]
        }
      ]
    },
    {
      "cell_type": "code",
      "source": [
        "knn_mean = knn_scores.mean()\n",
        "logreg_mean = logreg_scores.mean()\n",
        "\n",
        "print(\"Mean CV score for KNN:\", knn_mean)\n",
        "print(\"Mean CV score for Logistic Regression:\", logreg_mean)\n",
        "\n",
        "if logreg_mean > knn_mean:\n",
        "    best_model = logreg\n",
        "    print(\"Logistic Regression performs better based on the mean CV score.\")\n",
        "else:\n",
        "    best_model = knn\n",
        "    print(\"KNN performs better based on the mean CV score.\")"
      ],
      "metadata": {
        "colab": {
          "base_uri": "https://localhost:8080/"
        },
        "id": "YePQeuNEF2k4",
        "outputId": "41d58621-76a1-4cb5-b557-e0ef2d56113a"
      },
      "execution_count": null,
      "outputs": [
        {
          "output_type": "stream",
          "name": "stdout",
          "text": [
            "Mean CV score for KNN: 0.9333333333333333\n",
            "Mean CV score for Logistic Regression: 0.9583333333333334\n",
            "Logistic Regression performs better based on the mean CV score.\n"
          ]
        }
      ]
    }
  ]
}